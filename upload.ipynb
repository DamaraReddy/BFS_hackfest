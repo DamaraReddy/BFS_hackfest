{
 "cells": [
  {
   "cell_type": "code",
   "execution_count": 1,
   "metadata": {},
   "outputs": [],
   "source": [
    "import os\n",
    "import zipfile\n",
    "from  dotenv import load_dotenv\n",
    "from azure.storage.blob import BlobServiceClient, BlobClient, ContainerClient\n",
    "\n",
    "load_dotenv()\n",
    "\n",
    "connection_string = os.environ.get(\"AZURE_STORAGE_CONNECTION_STRING\")\n",
    "\n",
    "container_name = os.environ.get(\"CONTAINER_NAME\")\n",
    "\n",
    "blob_service_client = BlobServiceClient.from_connection_string(connection_string)\n",
    "\n",
    "container_client = blob_service_client.get_container_client(container_name)\n"
   ]
  },
  {
   "cell_type": "code",
   "execution_count": 3,
   "metadata": {},
   "outputs": [],
   "source": [
    "def upload_file_to_blob(file_path, container, blob_path=None):\n",
    "    blob_path = blob_path or file_path\n",
    "    blob_client = container_client.get_blob_client(blob_path)\n",
    "\n",
    "    with open(file_path, 'rb') as data:\n",
    "        blob_client.upload_blob(data)"
   ]
  },
  {
   "cell_type": "code",
   "execution_count": 4,
   "metadata": {},
   "outputs": [],
   "source": [
    "def upload_directory_to_blob(directory_path, container_client, blob_path=None):\n",
    "    for root, dirs, files in os.walk(directory_path):\n",
    "        for file_name in files:\n",
    "            file_path = os.path.join(root, file_name)\n",
    "            relative_path = os.path.relpath(file_path, directory_path)\n",
    "            upload_file_to_blob(file_path, container_client, os.path.join(blob_path or \"\", relative_path))\n"
   ]
  },
  {
   "cell_type": "code",
   "execution_count": 5,
   "metadata": {},
   "outputs": [],
   "source": [
    "def upload_zip_to_blob(zip_path, container_client, extract_to_blob=True):\n",
    "    with zipfile.ZipFile(zip_path, 'r') as zip_ref:\n",
    "        if extract_to_blob:\n",
    "            with zipfile.ZipFile(zip_path, 'r') as zip_ref:\n",
    "                zip_ref.extractall(\"temp\")\n",
    "                upload_directory_to_blob(\"temp\", container_client)\n",
    "                # Clean up extracted files\n",
    "                os.system('rm -r temp')\n",
    "        else:\n",
    "            upload_file_to_blob(zip_path, container_client)\n"
   ]
  },
  {
   "cell_type": "code",
   "execution_count": 6,
   "metadata": {},
   "outputs": [],
   "source": [
    "def upload_to_blob(path):\n",
    "    if os.path.isfile(path):\n",
    "        if zipfile.is_zipfile(path):\n",
    "            upload_zip_to_blob(path, container_client)\n",
    "        else:\n",
    "            upload_file_to_blob(path, container_client)\n",
    "    elif os.path.isdir(path):\n",
    "        upload_directory_to_blob(path, container_client)\n",
    "    else:\n",
    "        print(\"The provided path is neither a file nor a directory.\")\n"
   ]
  },
  {
   "cell_type": "code",
   "execution_count": 7,
   "metadata": {},
   "outputs": [],
   "source": [
    "path = \"OneDrive_2_22-8-2024.zip\"  # Replace with your path\n",
    "upload_to_blob(path)"
   ]
  },
  {
   "cell_type": "code",
   "execution_count": null,
   "metadata": {},
   "outputs": [],
   "source": []
  }
 ],
 "metadata": {
  "kernelspec": {
   "display_name": "base",
   "language": "python",
   "name": "python3"
  },
  "language_info": {
   "codemirror_mode": {
    "name": "ipython",
    "version": 3
   },
   "file_extension": ".py",
   "mimetype": "text/x-python",
   "name": "python",
   "nbconvert_exporter": "python",
   "pygments_lexer": "ipython3",
   "version": "3.12.2"
  }
 },
 "nbformat": 4,
 "nbformat_minor": 2
}
