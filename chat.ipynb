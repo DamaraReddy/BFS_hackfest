{
 "cells": [
  {
   "cell_type": "markdown",
   "metadata": {},
   "source": [
    "# Test"
   ]
  },
  {
   "cell_type": "code",
   "execution_count": 12,
   "metadata": {},
   "outputs": [],
   "source": [
    "# ! pip install openai\n",
    "# ! pip install -q azure_identity\n",
    "# ! pip install python-dotenv\n"
   ]
  },
  {
   "cell_type": "code",
   "execution_count": 13,
   "metadata": {},
   "outputs": [
    {
     "data": {
      "text/plain": [
       "True"
      ]
     },
     "execution_count": 13,
     "metadata": {},
     "output_type": "execute_result"
    }
   ],
   "source": [
    "import os\n",
    "from dotenv import load_dotenv\n",
    "\n",
    "from openai import AzureOpenAI\n",
    "# from azure.identity import DefaultAzureCredential, get_bearer_token_provider\n",
    "load_dotenv()\n"
   ]
  },
  {
   "cell_type": "code",
   "execution_count": 8,
   "metadata": {},
   "outputs": [],
   "source": [
    "endpoint = os.getenv(\"ENDPOINT_URL\")\n",
    "deployment = os.getenv(\"DEPLOYMENT_NAME\")\n",
    "search_endpoint = os.getenv(\"SEARCH_ENDPOINT\")\n",
    "search_key = os.getenv(\"SEARCH_KEY\")\n",
    "search_index = os.getenv(\"SEARCH_INDEX_NAME\")"
   ]
  },
  {
   "cell_type": "code",
   "execution_count": 5,
   "metadata": {},
   "outputs": [],
   "source": [
    "# token_provider = get_bearer_token_provider(\n",
    "#     DefaultAzureCredential(),\n",
    "#     \"https://cognitiveservices.azure.com/.default\")"
   ]
  },
  {
   "cell_type": "code",
   "execution_count": 9,
   "metadata": {},
   "outputs": [],
   "source": [
    "client = AzureOpenAI(\n",
    "    api_key=os.getenv(\"AZURE_OPENAI_API_KEY\"),\n",
    "    azure_endpoint=endpoint,\n",
    "    # azure_ad_token_provider=token_provider,\n",
    "    api_version=\"2024-05-01-preview\",\n",
    ")"
   ]
  },
  {
   "cell_type": "code",
   "execution_count": 30,
   "metadata": {},
   "outputs": [],
   "source": [
    "messages = [\n",
    "    {\n",
    "        \"role\": \"system\",\n",
    "        \"content\": \"You are an AI model specialized in financial analysis. Your task is to extract specific financial metrics related to capital expenditure (CapEx) from earnings call transcripts of a company.\",\n",
    "    },\n",
    "    {\n",
    "        \"role\": \"user\",\n",
    "        \"content\": \"For Amazon provide a detailed summary for all the quarters and years where sections like CapEx, capital spending, or capital investment is discussed.\"\n",
    "    }\n",
    "    # {\n",
    "    #     \"role\": \"user\",\n",
    "    #     \"content\": \"Extract the capital expenditure (CapEx) information from the Alpabet's Q4 2022 earnings call transcript. Look for sections where CapEx, capital spending, or capital investment is discussed. Provide the extracted numerical values and any relevant context or statements made by the company's management regarding CapEx. If there are any projections or comparisons to previous periods, include those as well.\"\n",
    "    # }\n",
    "]"
   ]
  },
  {
   "cell_type": "code",
   "execution_count": 31,
   "metadata": {},
   "outputs": [],
   "source": [
    "completion = client.chat.completions.create(\n",
    "    model=deployment,\n",
    "    messages= messages,\n",
    "    max_tokens=800,\n",
    "    temperature=0,\n",
    "    top_p=0.95,\n",
    "    frequency_penalty=0,\n",
    "    presence_penalty=0,\n",
    "    stop=None,\n",
    "    stream=False,\n",
    "    extra_body={\n",
    "      \"data_sources\": [{\n",
    "          \"type\": \"azure_search\",\n",
    "          \"parameters\": {\n",
    "            \"endpoint\": f\"{search_endpoint}\",\n",
    "            \"index_name\": \"azureblob-index\",\n",
    "            \"semantic_configuration\": \"call-transcript-semantic-config\",\n",
    "            \"query_type\": \"semantic\",\n",
    "            \"fields_mapping\": {},\n",
    "            \"in_scope\": True,\n",
    "            \"role_information\": \"You are an AI model specialized in financial analysis. Your task is to extract specific financial metrics related to capital expenditure (CapEx) from earnings call transcripts of a company.\",\n",
    "            \"filter\": None,\n",
    "            \"strictness\": 3,\n",
    "            \"top_n_documents\": 5,\n",
    "            \"authentication\": {\n",
    "              \"type\": \"api_key\",\n",
    "              \"key\": f\"{search_key}\"\n",
    "            }\n",
    "          }\n",
    "        }]\n",
    "    }\n",
    ")"
   ]
  },
  {
   "cell_type": "code",
   "execution_count": 32,
   "metadata": {},
   "outputs": [
    {
     "name": "stdout",
     "output_type": "stream",
     "text": [
      "The requested information is not available in the retrieved data. Please try another query or topic.\n"
     ]
    }
   ],
   "source": [
    "print(completion.choices[0].message.content)"
   ]
  },
  {
   "cell_type": "markdown",
   "metadata": {},
   "source": [
    "# Test 2"
   ]
  },
  {
   "cell_type": "code",
   "execution_count": 33,
   "metadata": {},
   "outputs": [
    {
     "name": "stdout",
     "output_type": "stream",
     "text": [
      "\n",
      "\u001b[1m[\u001b[0m\u001b[34;49mnotice\u001b[0m\u001b[1;39;49m]\u001b[0m\u001b[39;49m A new release of pip is available: \u001b[0m\u001b[31;49m24.1.2\u001b[0m\u001b[39;49m -> \u001b[0m\u001b[32;49m24.2\u001b[0m\n",
      "\u001b[1m[\u001b[0m\u001b[34;49mnotice\u001b[0m\u001b[1;39;49m]\u001b[0m\u001b[39;49m To update, run: \u001b[0m\u001b[32;49mpip install --upgrade pip\u001b[0m\n"
     ]
    }
   ],
   "source": [
    "! pip install azure-search-documents==11.6.0b4 --quiet"
   ]
  },
  {
   "cell_type": "code",
   "execution_count": 35,
   "metadata": {},
   "outputs": [],
   "source": [
    "from azure.search.documents import SearchClient\n",
    "from azure.identity import DefaultAzureCredential\n",
    "\n",
    "credential = DefaultAzureCredential()\n",
    "search_client = SearchClient(\n",
    "    endpoint=search_endpoint,\n",
    "    index_name=\"hotels-sample-index\",\n",
    "    credential=credential\n",
    ")"
   ]
  },
  {
   "cell_type": "code",
   "execution_count": 43,
   "metadata": {},
   "outputs": [],
   "source": [
    "query =\"\"\"\n",
    "give a summary for amazon q2 2022.\n",
    "\"\"\""
   ]
  },
  {
   "cell_type": "code",
   "execution_count": 46,
   "metadata": {},
   "outputs": [],
   "source": [
    "search_results = search_client.search(\n",
    "    search_text=query,\n",
    "    top=5,\n",
    "    select=\"Description,HotelName,Tags\"\n",
    " )"
   ]
  },
  {
   "cell_type": "code",
   "execution_count": 47,
   "metadata": {},
   "outputs": [
    {
     "ename": "HttpResponseError",
     "evalue": "Operation returned an invalid status 'Forbidden'",
     "output_type": "error",
     "traceback": [
      "\u001b[0;31m---------------------------------------------------------------------------\u001b[0m",
      "\u001b[0;31mHttpResponseError\u001b[0m                         Traceback (most recent call last)",
      "Cell \u001b[0;32mIn[47], line 1\u001b[0m\n\u001b[0;32m----> 1\u001b[0m sources_formatted \u001b[38;5;241m=\u001b[39m \u001b[38;5;124m\"\u001b[39m\u001b[38;5;130;01m\\n\u001b[39;00m\u001b[38;5;124m\"\u001b[39m\u001b[38;5;241m.\u001b[39mjoin(\u001b[43m[\u001b[49m\u001b[38;5;124;43mf\u001b[39;49m\u001b[38;5;124;43m'\u001b[39;49m\u001b[38;5;132;43;01m{\u001b[39;49;00m\u001b[43mdocument\u001b[49m\u001b[43m[\u001b[49m\u001b[38;5;124;43m\"\u001b[39;49m\u001b[38;5;124;43mHotelName\u001b[39;49m\u001b[38;5;124;43m\"\u001b[39;49m\u001b[43m]\u001b[49m\u001b[38;5;132;43;01m}\u001b[39;49;00m\u001b[38;5;124;43m:\u001b[39;49m\u001b[38;5;132;43;01m{\u001b[39;49;00m\u001b[43mdocument\u001b[49m\u001b[43m[\u001b[49m\u001b[38;5;124;43m\"\u001b[39;49m\u001b[38;5;124;43mDescription\u001b[39;49m\u001b[38;5;124;43m\"\u001b[39;49m\u001b[43m]\u001b[49m\u001b[38;5;132;43;01m}\u001b[39;49;00m\u001b[38;5;124;43m:\u001b[39;49m\u001b[38;5;132;43;01m{\u001b[39;49;00m\u001b[43mdocument\u001b[49m\u001b[43m[\u001b[49m\u001b[38;5;124;43m\"\u001b[39;49m\u001b[38;5;124;43mTags\u001b[39;49m\u001b[38;5;124;43m\"\u001b[39;49m\u001b[43m]\u001b[49m\u001b[38;5;132;43;01m}\u001b[39;49;00m\u001b[38;5;124;43m'\u001b[39;49m\u001b[43m \u001b[49m\u001b[38;5;28;43;01mfor\u001b[39;49;00m\u001b[43m \u001b[49m\u001b[43mdocument\u001b[49m\u001b[43m \u001b[49m\u001b[38;5;129;43;01min\u001b[39;49;00m\u001b[43m \u001b[49m\u001b[43msearch_results\u001b[49m\u001b[43m]\u001b[49m)\n",
      "File \u001b[0;32m/opt/conda/lib/python3.12/site-packages/azure/search/documents/_paging.py:54\u001b[0m, in \u001b[0;36mSearchItemPaged.__next__\u001b[0;34m(self)\u001b[0m\n\u001b[1;32m     52\u001b[0m     first_iterator \u001b[38;5;241m=\u001b[39m \u001b[38;5;28mself\u001b[39m\u001b[38;5;241m.\u001b[39m_first_iterator_instance()\n\u001b[1;32m     53\u001b[0m     \u001b[38;5;28mself\u001b[39m\u001b[38;5;241m.\u001b[39m_page_iterator \u001b[38;5;241m=\u001b[39m itertools\u001b[38;5;241m.\u001b[39mchain\u001b[38;5;241m.\u001b[39mfrom_iterable(first_iterator)\n\u001b[0;32m---> 54\u001b[0m \u001b[38;5;28;01mreturn\u001b[39;00m \u001b[38;5;28;43mnext\u001b[39;49m\u001b[43m(\u001b[49m\u001b[38;5;28;43mself\u001b[39;49m\u001b[38;5;241;43m.\u001b[39;49m\u001b[43m_page_iterator\u001b[49m\u001b[43m)\u001b[49m\n",
      "File \u001b[0;32m/opt/conda/lib/python3.12/site-packages/azure/core/paging.py:75\u001b[0m, in \u001b[0;36mPageIterator.__next__\u001b[0;34m(self)\u001b[0m\n\u001b[1;32m     73\u001b[0m     \u001b[38;5;28;01mraise\u001b[39;00m \u001b[38;5;167;01mStopIteration\u001b[39;00m(\u001b[38;5;124m\"\u001b[39m\u001b[38;5;124mEnd of paging\u001b[39m\u001b[38;5;124m\"\u001b[39m)\n\u001b[1;32m     74\u001b[0m \u001b[38;5;28;01mtry\u001b[39;00m:\n\u001b[0;32m---> 75\u001b[0m     \u001b[38;5;28mself\u001b[39m\u001b[38;5;241m.\u001b[39m_response \u001b[38;5;241m=\u001b[39m \u001b[38;5;28;43mself\u001b[39;49m\u001b[38;5;241;43m.\u001b[39;49m\u001b[43m_get_next\u001b[49m\u001b[43m(\u001b[49m\u001b[38;5;28;43mself\u001b[39;49m\u001b[38;5;241;43m.\u001b[39;49m\u001b[43mcontinuation_token\u001b[49m\u001b[43m)\u001b[49m\n\u001b[1;32m     76\u001b[0m \u001b[38;5;28;01mexcept\u001b[39;00m AzureError \u001b[38;5;28;01mas\u001b[39;00m error:\n\u001b[1;32m     77\u001b[0m     \u001b[38;5;28;01mif\u001b[39;00m \u001b[38;5;129;01mnot\u001b[39;00m error\u001b[38;5;241m.\u001b[39mcontinuation_token:\n",
      "File \u001b[0;32m/opt/conda/lib/python3.12/site-packages/azure/search/documents/_paging.py:125\u001b[0m, in \u001b[0;36mSearchPageIterator._get_next_cb\u001b[0;34m(self, continuation_token)\u001b[0m\n\u001b[1;32m    123\u001b[0m \u001b[38;5;28;01mdef\u001b[39;00m \u001b[38;5;21m_get_next_cb\u001b[39m(\u001b[38;5;28mself\u001b[39m, continuation_token):\n\u001b[1;32m    124\u001b[0m     \u001b[38;5;28;01mif\u001b[39;00m continuation_token \u001b[38;5;129;01mis\u001b[39;00m \u001b[38;5;28;01mNone\u001b[39;00m:\n\u001b[0;32m--> 125\u001b[0m         \u001b[38;5;28;01mreturn\u001b[39;00m \u001b[38;5;28;43mself\u001b[39;49m\u001b[38;5;241;43m.\u001b[39;49m\u001b[43m_client\u001b[49m\u001b[38;5;241;43m.\u001b[39;49m\u001b[43mdocuments\u001b[49m\u001b[38;5;241;43m.\u001b[39;49m\u001b[43msearch_post\u001b[49m\u001b[43m(\u001b[49m\u001b[43msearch_request\u001b[49m\u001b[38;5;241;43m=\u001b[39;49m\u001b[38;5;28;43mself\u001b[39;49m\u001b[38;5;241;43m.\u001b[39;49m\u001b[43m_initial_query\u001b[49m\u001b[38;5;241;43m.\u001b[39;49m\u001b[43mrequest\u001b[49m\u001b[43m,\u001b[49m\u001b[43m \u001b[49m\u001b[38;5;241;43m*\u001b[39;49m\u001b[38;5;241;43m*\u001b[39;49m\u001b[38;5;28;43mself\u001b[39;49m\u001b[38;5;241;43m.\u001b[39;49m\u001b[43m_kwargs\u001b[49m\u001b[43m)\u001b[49m\n\u001b[1;32m    127\u001b[0m     _next_link, next_page_request \u001b[38;5;241m=\u001b[39m unpack_continuation_token(continuation_token)\n\u001b[1;32m    129\u001b[0m     \u001b[38;5;28;01mreturn\u001b[39;00m \u001b[38;5;28mself\u001b[39m\u001b[38;5;241m.\u001b[39m_client\u001b[38;5;241m.\u001b[39mdocuments\u001b[38;5;241m.\u001b[39msearch_post(search_request\u001b[38;5;241m=\u001b[39mnext_page_request, \u001b[38;5;241m*\u001b[39m\u001b[38;5;241m*\u001b[39m\u001b[38;5;28mself\u001b[39m\u001b[38;5;241m.\u001b[39m_kwargs)\n",
      "File \u001b[0;32m/opt/conda/lib/python3.12/site-packages/azure/core/tracing/decorator.py:94\u001b[0m, in \u001b[0;36mdistributed_trace.<locals>.decorator.<locals>.wrapper_use_tracer\u001b[0;34m(*args, **kwargs)\u001b[0m\n\u001b[1;32m     92\u001b[0m span_impl_type \u001b[38;5;241m=\u001b[39m settings\u001b[38;5;241m.\u001b[39mtracing_implementation()\n\u001b[1;32m     93\u001b[0m \u001b[38;5;28;01mif\u001b[39;00m span_impl_type \u001b[38;5;129;01mis\u001b[39;00m \u001b[38;5;28;01mNone\u001b[39;00m:\n\u001b[0;32m---> 94\u001b[0m     \u001b[38;5;28;01mreturn\u001b[39;00m \u001b[43mfunc\u001b[49m\u001b[43m(\u001b[49m\u001b[38;5;241;43m*\u001b[39;49m\u001b[43margs\u001b[49m\u001b[43m,\u001b[49m\u001b[43m \u001b[49m\u001b[38;5;241;43m*\u001b[39;49m\u001b[38;5;241;43m*\u001b[39;49m\u001b[43mkwargs\u001b[49m\u001b[43m)\u001b[49m\n\u001b[1;32m     96\u001b[0m \u001b[38;5;66;03m# Merge span is parameter is set, but only if no explicit parent are passed\u001b[39;00m\n\u001b[1;32m     97\u001b[0m \u001b[38;5;28;01mif\u001b[39;00m merge_span \u001b[38;5;129;01mand\u001b[39;00m \u001b[38;5;129;01mnot\u001b[39;00m passed_in_parent:\n",
      "File \u001b[0;32m/opt/conda/lib/python3.12/site-packages/azure/search/documents/_generated/operations/_documents_operations.py:783\u001b[0m, in \u001b[0;36mDocumentsOperations.search_post\u001b[0;34m(self, search_request, request_options, **kwargs)\u001b[0m\n\u001b[1;32m    781\u001b[0m     map_error(status_code\u001b[38;5;241m=\u001b[39mresponse\u001b[38;5;241m.\u001b[39mstatus_code, response\u001b[38;5;241m=\u001b[39mresponse, error_map\u001b[38;5;241m=\u001b[39merror_map)\n\u001b[1;32m    782\u001b[0m     error \u001b[38;5;241m=\u001b[39m \u001b[38;5;28mself\u001b[39m\u001b[38;5;241m.\u001b[39m_deserialize\u001b[38;5;241m.\u001b[39mfailsafe_deserialize(_models\u001b[38;5;241m.\u001b[39mErrorResponse, pipeline_response)\n\u001b[0;32m--> 783\u001b[0m     \u001b[38;5;28;01mraise\u001b[39;00m HttpResponseError(response\u001b[38;5;241m=\u001b[39mresponse, model\u001b[38;5;241m=\u001b[39merror)\n\u001b[1;32m    785\u001b[0m deserialized \u001b[38;5;241m=\u001b[39m \u001b[38;5;28mself\u001b[39m\u001b[38;5;241m.\u001b[39m_deserialize(\u001b[38;5;124m\"\u001b[39m\u001b[38;5;124mSearchDocumentsResult\u001b[39m\u001b[38;5;124m\"\u001b[39m, pipeline_response)\n\u001b[1;32m    787\u001b[0m \u001b[38;5;28;01mif\u001b[39;00m \u001b[38;5;28mcls\u001b[39m:\n",
      "\u001b[0;31mHttpResponseError\u001b[0m: Operation returned an invalid status 'Forbidden'"
     ]
    }
   ],
   "source": [
    "sources_formatted = \"\\n\".join([f'{document[\"HotelName\"]}:{document[\"Description\"]}:{document[\"Tags\"]}' for document in search_results])"
   ]
  },
  {
   "cell_type": "code",
   "execution_count": 42,
   "metadata": {},
   "outputs": [
    {
     "data": {
      "text/plain": [
       "''"
      ]
     },
     "execution_count": 42,
     "metadata": {},
     "output_type": "execute_result"
    }
   ],
   "source": [
    "sources_formatted"
   ]
  },
  {
   "cell_type": "markdown",
   "metadata": {},
   "source": [
    "# test 3"
   ]
  },
  {
   "cell_type": "code",
   "execution_count": 1,
   "metadata": {},
   "outputs": [
    {
     "name": "stdout",
     "output_type": "stream",
     "text": [
      "\n",
      "\u001b[1m[\u001b[0m\u001b[34;49mnotice\u001b[0m\u001b[1;39;49m]\u001b[0m\u001b[39;49m A new release of pip is available: \u001b[0m\u001b[31;49m24.1.2\u001b[0m\u001b[39;49m -> \u001b[0m\u001b[32;49m24.2\u001b[0m\n",
      "\u001b[1m[\u001b[0m\u001b[34;49mnotice\u001b[0m\u001b[1;39;49m]\u001b[0m\u001b[39;49m To update, run: \u001b[0m\u001b[32;49mpip install --upgrade pip\u001b[0m\n"
     ]
    }
   ],
   "source": [
    "# ! pip install -q openai PyPDF2"
   ]
  },
  {
   "cell_type": "code",
   "execution_count": 4,
   "metadata": {},
   "outputs": [
    {
     "name": "stdout",
     "output_type": "stream",
     "text": [
      "Based on the provided document, the following financial metrics can be extracted:\n",
      "\n",
      "- Operating Activities \"Change in Working Capital\": In the \"Investing and Financing Activities\" section, there is a line that mentions a \"favorable change in working capital\" of $33 million in the third quarter of 2023.\n",
      "\n",
      "- Net Cash from Operating Activities: In the same section, it is mentioned that net cash provided by operating activities was $3.3 billion in the third quarter of 2023.\n",
      "\n",
      "- Acquisition of Fixed Assets & Intangibles: In the \"Investing and Financing Activities\" section, it is mentioned that capital investments totaled $394 million in the third quarter of 2023.\n",
      "\n",
      "- Net Cash from Investing Activities: In the same section, it is mentioned that net cash provided by investing activities was negative $61 million in the third quarter of 2023.\n",
      "\n",
      "- Dividends Paid: It is mentioned in the document that Valero returned $2.2 billion to stockholders in the third quarter of 2023, of which $360 million was paid as dividends.\n",
      "\n",
      "Please note that not all of the requested metrics are explicitly mentioned in the document. Some metrics may require calculations and analysis based on the provided data.\n"
     ]
    }
   ],
   "source": [
    "import os\n",
    "from openai import AzureOpenAI\n",
    "import PyPDF2\n",
    "\n",
    "client = AzureOpenAI(\n",
    "  azure_endpoint = os.getenv(\"AZURE_OPENAI_ENDPOINT\"), \n",
    "  api_key=os.getenv(\"AZURE_OPENAI_API_KEY\"),  \n",
    "  api_version=\"2024-02-01\"\n",
    ")\n",
    "\n",
    "file_path = \"company/VLO-3Q23-Earnings-Release.pdf\"\n",
    "\n",
    "def extract_text_from_pdf(pdf_path):\n",
    "    \"\"\"\n",
    "    Extract text from a PDF file.\n",
    "\n",
    "    Args:\n",
    "    pdf_path (str): Path to the PDF file.\n",
    "\n",
    "    Returns:\n",
    "    str: Extracted text from the PDF.\n",
    "    \"\"\"\n",
    "    text = \"\"\n",
    "    with open(pdf_path, \"rb\") as file:\n",
    "        pdf_reader = PyPDF2.PdfReader(file)\n",
    "        for page in pdf_reader.pages:\n",
    "            page_text = page.extract_text()\n",
    "            if page_text:\n",
    "                text += page_text\n",
    "    return text\n",
    "\n",
    "input_context = extract_text_from_pdf(file_path)\n",
    "\n",
    "instructions = \"\"\"\n",
    "    As a Financial Analyst, you will leverage your expertise to generate tailored Financial Analysis Reports that cater to the specific requirements of clients. This role involves in-depth analysis of financial statements and market data to uncover insights into a company's financial performance and stability.\n",
    "You will engage directly with clients to gather essential information and refine the report based on their feedback, ensuring that the final product precisely meets their needs and expectations.\n",
    "\n",
    "Key Objectives:\n",
    "\n",
    "Analytical Precision: Utilize analytical skills to interpret financial data, identify trends, and detect anomalies.\n",
    "Effective Communication: Simplify and convey complex financial information in a clear and actionable manner for non-specialist audiences.\n",
    "Client Focus: Tailor reports dynamically based on client feedback, aligning the analysis with their strategic goals.\n",
    "Quality Assurance: Maintain the highest standards of quality and integrity in report generation, adhering to established benchmarks for analytical rigor.\n",
    "Performance Indicators:\n",
    "\n",
    "The effectiveness of the Financial Analysis Report is measured by its ability to provide actionable insights that support corporate decision-making, identify areas for operational improvement, and evaluate the company's financial health. Success is reflected in the report's contribution to informed investment decisions and strategic planning.\n",
    "\"\"\"\n",
    "\n",
    "user_content = f\"\"\"The report will include the following sections and I want to extract the capital expenditure and other metric like \n",
    "\n",
    "Operating Activities \"Change in Working Capital\",\n",
    "        \"Net Cash from Operating Activities\"\n",
    "Investing Activities has \"Acquisition of Fixed Assets & Intangibles\",\n",
    "        \"Net Cash from Investing Activities\"\n",
    "Financing Activities includes \"Dividends Paid\",\n",
    "        \"Cash from (Repayment of) Debt\",\n",
    "        \"Net Cash from Financing Activities\",\n",
    "Net Change includes  Net Change in Cash\n",
    "Metadata includes \"Report Date\", \"Publish Date\", \"Source\"\n",
    "Profitability Metrics like \"EBITDA\",\n",
    "        \"Gross Profit Margin\",\n",
    "        \"Operating Margin\",\n",
    "        \"Net Profit Margin\",\n",
    "        \"Return on Equity\",\n",
    "        \"Return on Assets\",\n",
    "        \"Return On Invested Capital\",\n",
    "Liquidity Metrics include Current Ratio\n",
    "Solvency Metrics like  \"Total Debt\", \"Liabilities to Equity Ratio\", \"Debt Ratio\",\n",
    "Cash Flow Metrics like \"Free Cash Flow\", \"Free Cash Flow to Net Income\", \"Cash Return On Invested Capital\",\n",
    "Other Important Metrics like \"Piotroski F-Score\", \"Net Debt / EBITDA\", \"Dividend Payout Ratio\n",
    "Capital Expenditure    \n",
    "\n",
    "```Document\n",
    "{input_context}\n",
    "```\n",
    "\"\"\"\n",
    "\n",
    "final_content = \"\"\"Please provide the  company name, year and quarter, capital expenditure value in billions of US dollars in JSON format.\n",
    "Note: Only Json Data is required no other text is required.\n",
    "```json\n",
    "\n",
    "\"\"\"\n",
    "\n",
    "messages = [\n",
    "    {\"role\": \"system\", \"content\": instructions},\n",
    "    {\"role\": \"user\", \"content\": user_content}\n",
    "]\n",
    "response = client.chat.completions.create(\n",
    "    model = os.getenv(\"DEPLOYMENT_NAME\"),\n",
    "    messages = messages,\n",
    ")\n",
    "\n",
    "\"\"\"\n",
    "[\n",
    "        {\"role\": \"system\", \"content\": \"You are a helpful assistant.\"},\n",
    "        {\"role\": \"user\", \"content\": \"Does Azure OpenAI support customer managed keys?\"},\n",
    "        {\"role\": \"assistant\", \"content\": \"Yes, customer managed keys are supported by Azure OpenAI.\"},\n",
    "        {\"role\": \"user\", \"content\": \"Do other Azure AI services support this too?\"}\n",
    "    ]\n",
    "\"\"\"\n",
    "print(response.choices[0].message.content)\n",
    "\n",
    "messages.append({\"role\": \"assistant\", \"content\":response.choices[0].message.content})\n",
    "messages.append({\"role\": \"user\", \"content\":final_content})\n"
   ]
  },
  {
   "cell_type": "code",
   "execution_count": 5,
   "metadata": {},
   "outputs": [
    {
     "name": "stdout",
     "output_type": "stream",
     "text": [
      "{\n",
      "  \"company_name\": \"Valero Energy Corporation\",\n",
      "  \"year\": 2023,\n",
      "  \"quarter\": 3,\n",
      "  \"capital_expenditure\": 0.394\n",
      "}\n"
     ]
    }
   ],
   "source": [
    "response = client.chat.completions.create(\n",
    "    model = os.getenv(\"DEPLOYMENT_NAME\"),\n",
    "    messages = messages,\n",
    ")\n",
    "print(response.choices[0].message.content)"
   ]
  },
  {
   "cell_type": "code",
   "execution_count": 3,
   "metadata": {},
   "outputs": [
    {
     "data": {
      "text/plain": [
       "'AMAZON.COM ANNOUNCES FIRST QUARTER RESULTS\\nSEATTLE'"
      ]
     },
     "execution_count": 3,
     "metadata": {},
     "output_type": "execute_result"
    }
   ],
   "source": [
    "import PyPDF2\n",
    "\n",
    "text = \"\"\n",
    "with open(\"company/AMZN-Q1-2024-Earnings-Release.pdf\", \"rb\") as file:\n",
    "    pdf_reader = PyPDF2.PdfReader(file)\n",
    "    for page in pdf_reader.pages:\n",
    "        page_text = page.extract_text()\n",
    "        if page_text:\n",
    "            text += page_text\n",
    "\n",
    "text[:50]"
   ]
  },
  {
   "cell_type": "markdown",
   "metadata": {},
   "source": [
    "# test 4"
   ]
  },
  {
   "cell_type": "code",
   "execution_count": 1,
   "metadata": {},
   "outputs": [],
   "source": [
    "from azure.identity import DefaultAzureCredential\n",
    "from azure.storage.blob import BlobServiceClient, BlobClient, ContainerClient"
   ]
  },
  {
   "cell_type": "code",
   "execution_count": 17,
   "metadata": {},
   "outputs": [
    {
     "data": {
      "text/plain": [
       "'AMAZON.COM ANNOUNCES FIRST QUARTER RESULTS\\nSEATTLE'"
      ]
     },
     "execution_count": 17,
     "metadata": {},
     "output_type": "execute_result"
    }
   ],
   "source": [
    "import os\n",
    "import io\n",
    "\n",
    "import PyPDF2\n",
    "connection_string = os.getenv(\"AZURE_STORAGE_CONNECTION_STRING\")\n",
    "container_name = \"earningcalltranscriptscontainer\"  # Replace with your container name\n",
    "container_client = ContainerClient.from_connection_string(\n",
    "    conn_str=connection_string,\n",
    "    container_name=\"earningcalltranscriptscontainer\"\n",
    ")\n",
    "# file_names = container_client.list_blobs() \n",
    "\n",
    "blob_list = container_client.list_blobs()\n",
    "# file_streams = [container_client.download_blob(blob).readall() for blob in blob_list]\n",
    "# \"company/AMZN-Q1-2024-Earnings-Release.pdf\"\n",
    "text = io.BytesIO()\n",
    "x = container_client.download_blob(\"AMZN-Q1-2024-Earnings-Release.pdf\").readinto(text)\n",
    "# text.write(x)\n",
    "\n",
    "ntext = \"\"\n",
    "pdf_reader = PyPDF2.PdfReader(text)\n",
    "for page in pdf_reader.pages:\n",
    "    page_text = page.extract_text()\n",
    "    if page_text:\n",
    "        ntext += page_text\n",
    "ntext[:50]\n",
    "# file_streams = []\n",
    "# for file_name in file_names:\n",
    "#     blob_client = blob_service_client.get_blob_client(container=container_name, blob=file_name)\n",
    "#     downloaded_blob = blob_client.download_blob()\n",
    "#     file_streams.append(downloaded_blob.content_as_bytes())"
   ]
  },
  {
   "cell_type": "code",
   "execution_count": null,
   "metadata": {},
   "outputs": [],
   "source": []
  }
 ],
 "metadata": {
  "kernelspec": {
   "display_name": "base",
   "language": "python",
   "name": "python3"
  },
  "language_info": {
   "codemirror_mode": {
    "name": "ipython",
    "version": 3
   },
   "file_extension": ".py",
   "mimetype": "text/x-python",
   "name": "python",
   "nbconvert_exporter": "python",
   "pygments_lexer": "ipython3",
   "version": "3.12.2"
  }
 },
 "nbformat": 4,
 "nbformat_minor": 2
}
