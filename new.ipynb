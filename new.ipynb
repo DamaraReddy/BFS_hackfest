{
 "cells": [
  {
   "cell_type": "code",
   "execution_count": null,
   "metadata": {},
   "outputs": [],
   "source": []
  },
  {
   "cell_type": "code",
   "execution_count": 2,
   "metadata": {},
   "outputs": [],
   "source": [
    "import os\n",
    "import json\n",
    "from openai import AzureOpenAI\n",
    "    \n",
    "client = AzureOpenAI(\n",
    "    api_key=os.getenv(\"AZURE_OPENAI_API_KEY\"),  \n",
    "    api_version=\"2024-05-01-preview\",\n",
    "    azure_endpoint = os.getenv(\"AZURE_OPENAI_ENDPOINT\")\n",
    "    )\n",
    "\n",
    "# Create an assistant\n",
    "assistant = client.beta.assistants.create(\n",
    "    name=\"Data Prep\",\n",
    "    instructions=\"\"\"\n",
    "    As a Financial Analyst, you will leverage your expertise to generate tailored Financial Analysis Reports that cater to the specific requirements of clients. This role involves in-depth analysis of financial statements and market data to uncover insights into a company's financial performance and stability.\n",
    "You will engage directly with clients to gather essential information and refine the report based on their feedback, ensuring that the final product precisely meets their needs and expectations.\n",
    "\n",
    "Key Objectives:\n",
    "\n",
    "Analytical Precision: Utilize analytical skills to interpret financial data, identify trends, and detect anomalies.\n",
    "Effective Communication: Simplify and convey complex financial information in a clear and actionable manner for non-specialist audiences.\n",
    "Client Focus: Tailor reports dynamically based on client feedback, aligning the analysis with their strategic goals.\n",
    "Quality Assurance: Maintain the highest standards of quality and integrity in report generation, adhering to established benchmarks for analytical rigor.\n",
    "Performance Indicators:\n",
    "\n",
    "The effectiveness of the Financial Analysis Report is measured by its ability to provide actionable insights that support corporate decision-making, identify areas for operational improvement, and evaluate the company's financial health. Success is reflected in the report's contribution to informed investment decisions and strategic planning.\n",
    "    \"\"\",\n",
    "    tools=[{\"type\": \"file_search\"}],\n",
    "    model= os.getenv(\"DEPLOYMENT_NAME\"), #You must replace this value with the deployment name for your model.\n",
    "    temperature=0\n",
    ")"
   ]
  },
  {
   "cell_type": "code",
   "execution_count": 3,
   "metadata": {},
   "outputs": [
    {
     "name": "stdout",
     "output_type": "stream",
     "text": [
      "{\n",
      "  \"id\": \"asst_QQgblqWtqIM5eHeg89Cbts5Q\",\n",
      "  \"created_at\": 1724050763,\n",
      "  \"description\": null,\n",
      "  \"instructions\": \"\\n    As a Financial Analyst, you will leverage your expertise to generate tailored Financial Analysis Reports that cater to the specific requirements of clients. This role involves in-depth analysis of financial statements and market data to uncover insights into a company's financial performance and stability.\\nYou will engage directly with clients to gather essential information and refine the report based on their feedback, ensuring that the final product precisely meets their needs and expectations.\\n\\nKey Objectives:\\n\\nAnalytical Precision: Utilize analytical skills to interpret financial data, identify trends, and detect anomalies.\\nEffective Communication: Simplify and convey complex financial information in a clear and actionable manner for non-specialist audiences.\\nClient Focus: Tailor reports dynamically based on client feedback, aligning the analysis with their strategic goals.\\nQuality Assurance: Maintain the highest standards of quality and integrity in report generation, adhering to established benchmarks for analytical rigor.\\nPerformance Indicators:\\n\\nThe effectiveness of the Financial Analysis Report is measured by its ability to provide actionable insights that support corporate decision-making, identify areas for operational improvement, and evaluate the company's financial health. Success is reflected in the report's contribution to informed investment decisions and strategic planning.\\n    \",\n",
      "  \"metadata\": {},\n",
      "  \"model\": \"hackathon-gtp-35-turbo-16k\",\n",
      "  \"name\": \"Data Prep\",\n",
      "  \"object\": \"assistant\",\n",
      "  \"tools\": [\n",
      "    {\n",
      "      \"type\": \"file_search\",\n",
      "      \"file_search\": null\n",
      "    }\n",
      "  ],\n",
      "  \"response_format\": \"auto\",\n",
      "  \"temperature\": 1.0,\n",
      "  \"tool_resources\": {\n",
      "    \"code_interpreter\": null,\n",
      "    \"file_search\": {\n",
      "      \"vector_store_ids\": []\n",
      "    }\n",
      "  },\n",
      "  \"top_p\": 1.0\n",
      "}\n"
     ]
    }
   ],
   "source": [
    "print(assistant.model_dump_json(indent=2))"
   ]
  },
  {
   "cell_type": "code",
   "execution_count": 4,
   "metadata": {},
   "outputs": [
    {
     "name": "stdout",
     "output_type": "stream",
     "text": [
      "Thread(id='thread_apwd80CExWzo5VxlBFREHo4Y', created_at=1724050967, metadata={}, object='thread', tool_resources=ToolResources(code_interpreter=None, file_search=None))\n"
     ]
    }
   ],
   "source": [
    "# Create a thread\n",
    "thread = client.beta.threads.create()\n",
    "print(thread)"
   ]
  },
  {
   "cell_type": "code",
   "execution_count": 5,
   "metadata": {},
   "outputs": [],
   "source": [
    "# Add a user question to the thread\n",
    "message = client.beta.threads.messages.create(\n",
    "    thread_id=thread.id,\n",
    "    role=\"user\",\n",
    "    content=\"\"\"The report will include the following sections and I want to extract the capital expenditure and other metric like \n",
    "\n",
    "Operating Activities \"Change in Working Capital\",\n",
    "        \"Net Cash from Operating Activities\"\n",
    "Investing Activities has \"Acquisition of Fixed Assets & Intangibles\",\n",
    "        \"Net Cash from Investing Activities\"\n",
    "Financing Activities includes \"Dividends Paid\",\n",
    "        \"Cash from (Repayment of) Debt\",\n",
    "        \"Net Cash from Financing Activities\",\n",
    "Net Change includes  Net Change in Cash\n",
    "Metadata includes \"Report Date\", \"Publish Date\", \"Source\"\n",
    "Profitability Metrics like \"EBITDA\",\n",
    "        \"Gross Profit Margin\",\n",
    "        \"Operating Margin\",\n",
    "        \"Net Profit Margin\",\n",
    "        \"Return on Equity\",\n",
    "        \"Return on Assets\",\n",
    "        \"Return On Invested Capital\",\n",
    "Liquidity Metrics include Current Ratio\n",
    "Solvency Metrics like  \"Total Debt\", \"Liabilities to Equity Ratio\", \"Debt Ratio\",\n",
    "Cash Flow Metrics like \"Free Cash Flow\", \"Free Cash Flow to Net Income\", \"Cash Return On Invested Capital\",\n",
    "Other Important Metrics like \"Piotroski F-Score\", \"Net Debt / EBITDA\", \"Dividend Payout Ratio\n",
    "Capital Expenditure    \n",
    "\"\"\"\n",
    ")"
   ]
  },
  {
   "cell_type": "code",
   "execution_count": 6,
   "metadata": {},
   "outputs": [
    {
     "name": "stdout",
     "output_type": "stream",
     "text": [
      "{\n",
      "  \"data\": [\n",
      "    {\n",
      "      \"id\": \"msg_VtcRFcQGbv52PfXr9jA739zd\",\n",
      "      \"assistant_id\": null,\n",
      "      \"attachments\": [],\n",
      "      \"completed_at\": null,\n",
      "      \"content\": [\n",
      "        {\n",
      "          \"text\": {\n",
      "            \"annotations\": [],\n",
      "            \"value\": \"The report will include the following sections and I want to extract the capital expenditure and other metric like \\n\\nOperating Activities \\\"Change in Working Capital\\\",\\n        \\\"Net Cash from Operating Activities\\\"\\nInvesting Activities has \\\"Acquisition of Fixed Assets & Intangibles\\\",\\n        \\\"Net Cash from Investing Activities\\\"\\nFinancing Activities includes \\\"Dividends Paid\\\",\\n        \\\"Cash from (Repayment of) Debt\\\",\\n        \\\"Net Cash from Financing Activities\\\",\\nNet Change includes  Net Change in Cash\\nMetadata includes \\\"Report Date\\\", \\\"Publish Date\\\", \\\"Source\\\"\\nProfitability Metrics like \\\"EBITDA\\\",\\n        \\\"Gross Profit Margin\\\",\\n        \\\"Operating Margin\\\",\\n        \\\"Net Profit Margin\\\",\\n        \\\"Return on Equity\\\",\\n        \\\"Return on Assets\\\",\\n        \\\"Return On Invested Capital\\\",\\nLiquidity Metrics include Current Ratio\\nSolvency Metrics like  \\\"Total Debt\\\", \\\"Liabilities to Equity Ratio\\\", \\\"Debt Ratio\\\",\\nCash Flow Metrics like \\\"Free Cash Flow\\\", \\\"Free Cash Flow to Net Income\\\", \\\"Cash Return On Invested Capital\\\",\\nOther Important Metrics like \\\"Piotroski F-Score\\\", \\\"Net Debt / EBITDA\\\", \\\"Dividend Payout Ratio\\nCapital Expenditure    \\n\"\n",
      "          },\n",
      "          \"type\": \"text\"\n",
      "        }\n",
      "      ],\n",
      "      \"created_at\": 1724051180,\n",
      "      \"incomplete_at\": null,\n",
      "      \"incomplete_details\": null,\n",
      "      \"metadata\": {},\n",
      "      \"object\": \"thread.message\",\n",
      "      \"role\": \"user\",\n",
      "      \"run_id\": null,\n",
      "      \"status\": null,\n",
      "      \"thread_id\": \"thread_apwd80CExWzo5VxlBFREHo4Y\"\n",
      "    }\n",
      "  ],\n",
      "  \"object\": \"list\",\n",
      "  \"first_id\": \"msg_VtcRFcQGbv52PfXr9jA739zd\",\n",
      "  \"last_id\": \"msg_VtcRFcQGbv52PfXr9jA739zd\",\n",
      "  \"has_more\": false\n",
      "}\n"
     ]
    }
   ],
   "source": [
    "thread_messages = client.beta.threads.messages.list(thread.id)\n",
    "print(thread_messages.model_dump_json(indent=2))"
   ]
  },
  {
   "cell_type": "code",
   "execution_count": 7,
   "metadata": {},
   "outputs": [],
   "source": [
    "run = client.beta.threads.runs.create(\n",
    "  thread_id=thread.id,\n",
    "  assistant_id=assistant.id,\n",
    "  #instructions=\"New instructions\" #You can optionally provide new instructions but these will override the default instructions\n",
    ")"
   ]
  },
  {
   "cell_type": "code",
   "execution_count": 8,
   "metadata": {},
   "outputs": [
    {
     "name": "stdout",
     "output_type": "stream",
     "text": [
      "completed\n"
     ]
    }
   ],
   "source": [
    "# Retrieve the status of the run\n",
    "run = client.beta.threads.runs.retrieve(\n",
    "  thread_id=thread.id,\n",
    "  run_id=run.id\n",
    ")\n",
    "\n",
    "status = run.status\n",
    "print(status)"
   ]
  },
  {
   "cell_type": "code",
   "execution_count": 9,
   "metadata": {},
   "outputs": [],
   "source": [
    "# import time\n",
    "# from IPython.display import clear_output\n",
    "\n",
    "# start_time = time.time()\n",
    "\n",
    "# status = run.status\n",
    "\n",
    "# while status not in [\"completed\", \"cancelled\", \"expired\", \"failed\"]:\n",
    "#     time.sleep(5)\n",
    "#     run = client.beta.threads.runs.retrieve(thread_id=thread.id,run_id=run.id)\n",
    "#     print(\"Elapsed time: {} minutes {} seconds\".format(int((time.time() - start_time) // 60), int((time.time() - start_time) % 60)))\n",
    "#     status = run.status\n",
    "#     print(f'Status: {status}')\n",
    "#     clear_output(wait=True)\n",
    "\n",
    "# messages = client.beta.threads.messages.list(\n",
    "#   thread_id=thread.id\n",
    "# ) \n",
    "\n",
    "# print(f'Status: {status}')\n",
    "# print(\"Elapsed time: {} minutes {} seconds\".format(int((time.time() - start_time) // 60), int((time.time() - start_time) % 60)))\n",
    "# print(messages.model_dump_json(indent=2))"
   ]
  },
  {
   "cell_type": "code",
   "execution_count": 10,
   "metadata": {},
   "outputs": [
    {
     "name": "stdout",
     "output_type": "stream",
     "text": [
      "{\n",
      "  \"data\": [\n",
      "    {\n",
      "      \"id\": \"msg_aPZuoVRSo1Weq0W3q3CsLc0V\",\n",
      "      \"assistant_id\": \"asst_QQgblqWtqIM5eHeg89Cbts5Q\",\n",
      "      \"attachments\": [],\n",
      "      \"completed_at\": null,\n",
      "      \"content\": [\n",
      "        {\n",
      "          \"text\": {\n",
      "            \"annotations\": [],\n",
      "            \"value\": \"Apologies, but it seems that no documents have been uploaded yet. Could you please upload the relevant file so that I can assist you in extracting the capital expenditure information and other metrics?\"\n",
      "          },\n",
      "          \"type\": \"text\"\n",
      "        }\n",
      "      ],\n",
      "      \"created_at\": 1724051273,\n",
      "      \"incomplete_at\": null,\n",
      "      \"incomplete_details\": null,\n",
      "      \"metadata\": {},\n",
      "      \"object\": \"thread.message\",\n",
      "      \"role\": \"assistant\",\n",
      "      \"run_id\": \"run_MU2hRnGjqQEpN2GpdX2VQrwk\",\n",
      "      \"status\": null,\n",
      "      \"thread_id\": \"thread_apwd80CExWzo5VxlBFREHo4Y\"\n",
      "    },\n",
      "    {\n",
      "      \"id\": \"msg_VtcRFcQGbv52PfXr9jA739zd\",\n",
      "      \"assistant_id\": null,\n",
      "      \"attachments\": [],\n",
      "      \"completed_at\": null,\n",
      "      \"content\": [\n",
      "        {\n",
      "          \"text\": {\n",
      "            \"annotations\": [],\n",
      "            \"value\": \"The report will include the following sections and I want to extract the capital expenditure and other metric like \\n\\nOperating Activities \\\"Change in Working Capital\\\",\\n        \\\"Net Cash from Operating Activities\\\"\\nInvesting Activities has \\\"Acquisition of Fixed Assets & Intangibles\\\",\\n        \\\"Net Cash from Investing Activities\\\"\\nFinancing Activities includes \\\"Dividends Paid\\\",\\n        \\\"Cash from (Repayment of) Debt\\\",\\n        \\\"Net Cash from Financing Activities\\\",\\nNet Change includes  Net Change in Cash\\nMetadata includes \\\"Report Date\\\", \\\"Publish Date\\\", \\\"Source\\\"\\nProfitability Metrics like \\\"EBITDA\\\",\\n        \\\"Gross Profit Margin\\\",\\n        \\\"Operating Margin\\\",\\n        \\\"Net Profit Margin\\\",\\n        \\\"Return on Equity\\\",\\n        \\\"Return on Assets\\\",\\n        \\\"Return On Invested Capital\\\",\\nLiquidity Metrics include Current Ratio\\nSolvency Metrics like  \\\"Total Debt\\\", \\\"Liabilities to Equity Ratio\\\", \\\"Debt Ratio\\\",\\nCash Flow Metrics like \\\"Free Cash Flow\\\", \\\"Free Cash Flow to Net Income\\\", \\\"Cash Return On Invested Capital\\\",\\nOther Important Metrics like \\\"Piotroski F-Score\\\", \\\"Net Debt / EBITDA\\\", \\\"Dividend Payout Ratio\\nCapital Expenditure    \\n\"\n",
      "          },\n",
      "          \"type\": \"text\"\n",
      "        }\n",
      "      ],\n",
      "      \"created_at\": 1724051180,\n",
      "      \"incomplete_at\": null,\n",
      "      \"incomplete_details\": null,\n",
      "      \"metadata\": {},\n",
      "      \"object\": \"thread.message\",\n",
      "      \"role\": \"user\",\n",
      "      \"run_id\": null,\n",
      "      \"status\": null,\n",
      "      \"thread_id\": \"thread_apwd80CExWzo5VxlBFREHo4Y\"\n",
      "    }\n",
      "  ],\n",
      "  \"object\": \"list\",\n",
      "  \"first_id\": \"msg_aPZuoVRSo1Weq0W3q3CsLc0V\",\n",
      "  \"last_id\": \"msg_VtcRFcQGbv52PfXr9jA739zd\",\n",
      "  \"has_more\": false\n",
      "}\n"
     ]
    }
   ],
   "source": [
    "messages = client.beta.threads.messages.list(\n",
    "  thread_id=thread.id\n",
    ")\n",
    "\n",
    "print(messages.model_dump_json(indent=2))"
   ]
  },
  {
   "cell_type": "code",
   "execution_count": 10,
   "metadata": {},
   "outputs": [
    {
     "name": "stdout",
     "output_type": "stream",
     "text": [
      "assistant-kDuDAwS2bMPodkoMNXyZBx77\n"
     ]
    }
   ],
   "source": [
    "data = json.loads(messages.model_dump_json(indent=2))  # Load JSON data into a Python object\n",
    "image_file_id = data['data'][0]['content'][0]['image_file']['file_id']\n",
    "\n",
    "print(image_file_id)  # Outputs: assistant-1YGVTvNzc2JXajI5JU9F0HMD"
   ]
  },
  {
   "cell_type": "code",
   "execution_count": 11,
   "metadata": {},
   "outputs": [],
   "source": [
    "content = client.files.content(image_file_id)\n",
    "\n",
    "image= content.write_to_file(\"sinewave.png\")"
   ]
  },
  {
   "cell_type": "code",
   "execution_count": 12,
   "metadata": {},
   "outputs": [],
   "source": [
    "# Add a new user question to the thread\n",
    "message = client.beta.threads.messages.create(\n",
    "    thread_id=thread.id,\n",
    "    role=\"user\",\n",
    "    content=\"Show me the code you used to generate the sinewave\"\n",
    ")"
   ]
  },
  {
   "cell_type": "code",
   "execution_count": 14,
   "metadata": {},
   "outputs": [
    {
     "name": "stdout",
     "output_type": "stream",
     "text": [
      "queued\n"
     ]
    }
   ],
   "source": [
    "run = client.beta.threads.runs.create(\n",
    "  thread_id=thread.id,\n",
    "  assistant_id=assistant.id,\n",
    "  #instructions=\"New instructions\" #You can optionally provide new instructions  but these will override the default instructions\n",
    ")\n",
    "\n",
    "# Retrieve the status of the run\n",
    "run = client.beta.threads.runs.retrieve(\n",
    "  thread_id=thread.id,\n",
    "  run_id=run.id\n",
    ")\n",
    "\n"
   ]
  },
  {
   "cell_type": "code",
   "execution_count": 16,
   "metadata": {},
   "outputs": [
    {
     "name": "stdout",
     "output_type": "stream",
     "text": [
      "queued\n"
     ]
    }
   ],
   "source": [
    "status = run.status\n",
    "print(status)"
   ]
  },
  {
   "cell_type": "code",
   "execution_count": null,
   "metadata": {},
   "outputs": [],
   "source": [
    "messages = client.beta.threads.messages.list(\n",
    "  thread_id=thread.id\n",
    ")\n",
    "\n",
    "print(messages.model_dump_json(indent=2))"
   ]
  }
 ],
 "metadata": {
  "kernelspec": {
   "display_name": "base",
   "language": "python",
   "name": "python3"
  },
  "language_info": {
   "codemirror_mode": {
    "name": "ipython",
    "version": 3
   },
   "file_extension": ".py",
   "mimetype": "text/x-python",
   "name": "python",
   "nbconvert_exporter": "python",
   "pygments_lexer": "ipython3",
   "version": "3.12.2"
  }
 },
 "nbformat": 4,
 "nbformat_minor": 2
}
