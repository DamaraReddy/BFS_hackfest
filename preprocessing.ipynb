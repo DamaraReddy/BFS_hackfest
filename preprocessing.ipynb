{
 "cells": [
  {
   "cell_type": "code",
   "execution_count": 1,
   "metadata": {},
   "outputs": [
    {
     "name": "stdout",
     "output_type": "stream",
     "text": [
      "Requirement already satisfied: pypdf in /opt/conda/lib/python3.12/site-packages (4.3.1)\n",
      "\n",
      "\u001b[1m[\u001b[0m\u001b[34;49mnotice\u001b[0m\u001b[1;39;49m]\u001b[0m\u001b[39;49m A new release of pip is available: \u001b[0m\u001b[31;49m24.1.2\u001b[0m\u001b[39;49m -> \u001b[0m\u001b[32;49m24.2\u001b[0m\n",
      "\u001b[1m[\u001b[0m\u001b[34;49mnotice\u001b[0m\u001b[1;39;49m]\u001b[0m\u001b[39;49m To update, run: \u001b[0m\u001b[32;49mpip install --upgrade pip\u001b[0m\n"
     ]
    }
   ],
   "source": [
    "# ! pip install pypdf"
   ]
  },
  {
   "cell_type": "code",
   "execution_count": 4,
   "metadata": {},
   "outputs": [
    {
     "name": "stdout",
     "output_type": "stream",
     "text": [
      "AMAZON.COM ANNOUNCES FIRST QUARTER RESULTS\n",
      "SEATTLE—(BUSINESS WIRE) April 30, 2024—Amazon.com, Inc. (NASDAQ: AMZN) today announced financial results \n",
      "for its first quarter ended March 31, 2024. \n",
      "•Net sales increased 13% to $143.3 billion in the first quarter, compared with $127.4 billion in first quarter 2023.\n",
      "Excluding the $0.2 billion unfavorable impact from year-over-year changes in foreign exchange rates throughout the\n",
      "quarter, net sales increased 13% compared with first quarter 2023.\n",
      "• North America segment sales increased 12% year-over-year to $86.3 billion.\n",
      "• International segment sales increased 10% year-over-year to $31.9 billion, or increased 11% excluding\n",
      "changes in foreign exchange rates.\n",
      "• AWS segment sales increased 17% year-over-year to $25.0 billion.\n",
      "•Operating income  increased to $15.3 billion in the first quarter, compared with $4.8 billion in first quarter 2023.\n",
      "• North America segment operating income was $5.0 billion, compared with operating income of $0.9 billion\n",
      "in first quarter 2023.\n",
      "• International segment operating income was $0.9 billion, compared with an operating loss of $1.2 billion in\n",
      "first quarter 2023.\n",
      "• AWS segment operating income was $9.4 billion, compared with operating income of $5.1 billion in first\n",
      "quarter 2023.\n",
      "•Net income  increased to $10.4 billion in the first quarter, or $0.98 per diluted share, compared with $3.2 billion, or\n",
      "$0.31 per diluted share, in first quarter 2023.\n",
      "• First quarter 2024 net income includes a pre-tax valuation loss of $2.0 billion included in non-operating\n",
      "expense from the common stock investment in Rivian Automotive, Inc., compared to a pre-tax valuation loss\n",
      "of $0.5 billion from the investment in first quarter 2023.\n",
      "•Operating cash flow increased 82% to $99.1 billion for the trailing twelve months, compared with $54.3 billion for\n",
      "the trailing twelve months ended March 31, 2023.\n",
      "•Free cash flow improved to an inflow of $50.1 billion for the trailing twelve months, compared with an outflow of\n",
      "$3.3 billion for the trailing twelve months ended March 31, 2023.\n",
      "•Free cash flow less principal repayments of finance leases and financing obligations improved to an inflow of\n",
      "$46.1 billion for the trailing twelve months, compared with an outflow of $10.1 billion for the trailing twelve months\n",
      "ended March 31, 2023.\n",
      "•Free cash flow less equipment finance leases and principal repayments of all other finance leases and financing\n",
      "obligations improved to an inflow of $48.8 billion for the trailing twelve months, compared with an outflow of $4.5\n",
      "billion for the trailing twelve months ended March 31, 2023.\n"
     ]
    }
   ],
   "source": [
    "from pypdf import PdfReader\n",
    "transcript = PdfReader(\"company/AMZN-Q1-2024-Earnings-Release.pdf\", \"rb\")\n",
    "print(transcript.pages[0].extract_text())  # Print the first 500 characters for inspection"
   ]
  },
  {
   "cell_type": "code",
   "execution_count": null,
   "metadata": {},
   "outputs": [],
   "source": []
  }
 ],
 "metadata": {
  "kernelspec": {
   "display_name": "base",
   "language": "python",
   "name": "python3"
  },
  "language_info": {
   "codemirror_mode": {
    "name": "ipython",
    "version": 3
   },
   "file_extension": ".py",
   "mimetype": "text/x-python",
   "name": "python",
   "nbconvert_exporter": "python",
   "pygments_lexer": "ipython3",
   "version": "3.12.2"
  }
 },
 "nbformat": 4,
 "nbformat_minor": 2
}
